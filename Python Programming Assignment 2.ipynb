{
 "cells": [
  {
   "cell_type": "code",
   "execution_count": null,
   "metadata": {},
   "outputs": [],
   "source": [
    "1. Write a Python program to convert kilometers to miles?"
   ]
  },
  {
   "cell_type": "code",
   "execution_count": 1,
   "metadata": {},
   "outputs": [
    {
     "name": "stdout",
     "output_type": "stream",
     "text": [
      "Enter Kilometers 20\n",
      "12.0 miles\n"
     ]
    }
   ],
   "source": [
    "x=int(input('Enter Kilometers '))\n",
    "x=0.6*x\n",
    "print('{} miles'.format(x))"
   ]
  },
  {
   "cell_type": "code",
   "execution_count": null,
   "metadata": {},
   "outputs": [],
   "source": [
    "2. Write a Python program to convert Celsius to Fahrenheit?"
   ]
  },
  {
   "cell_type": "code",
   "execution_count": 4,
   "metadata": {},
   "outputs": [
    {
     "name": "stdout",
     "output_type": "stream",
     "text": [
      "Enter Temperature in Celsius 20\n",
      "68.0 Fahrenheit\n"
     ]
    }
   ],
   "source": [
    "x=int(input('Enter Temperature in Celsius '))\n",
    "x=(x*9/5)+32\n",
    "print('{} Fahrenheit'.format(x))"
   ]
  },
  {
   "cell_type": "code",
   "execution_count": null,
   "metadata": {},
   "outputs": [],
   "source": [
    "3. Write a Python program to display calendar?"
   ]
  },
  {
   "cell_type": "code",
   "execution_count": 3,
   "metadata": {},
   "outputs": [
    {
     "name": "stdout",
     "output_type": "stream",
     "text": [
      "Enter  month  eg  11:6\n",
      "Enter Year eg 2004 :2003\n",
      "     June 2003\n",
      "Mo Tu We Th Fr Sa Su\n",
      "                   1\n",
      " 2  3  4  5  6  7  8\n",
      " 9 10 11 12 13 14 15\n",
      "16 17 18 19 20 21 22\n",
      "23 24 25 26 27 28 29\n",
      "30\n",
      "\n"
     ]
    }
   ],
   "source": [
    "x=int(input('Enter  month  eg  11:'))\n",
    "y=int(input('Enter Year eg 2004 :'))\n",
    "import calendar\n",
    "\n",
    "print(calendar.month(y,x))"
   ]
  },
  {
   "cell_type": "code",
   "execution_count": null,
   "metadata": {},
   "outputs": [],
   "source": [
    "4. Write a Python program to solve quadratic equation?"
   ]
  },
  {
   "cell_type": "code",
   "execution_count": 12,
   "metadata": {},
   "outputs": [
    {
     "name": "stdout",
     "output_type": "stream",
     "text": [
      "Enter coefficient in the form a,b,c for ax^2+b^x+c7 12 4\n",
      "Positive and Negative roots are -22.20101012677667,-61.79898987322333\n"
     ]
    }
   ],
   "source": [
    "x,y,z=input('Enter coefficient in the form a,b,c for ax^2+b^x+c').split()\n",
    "x,y,z=int(x),int(y),int(z)\n",
    "w=((y**2)-4*x*z)**0.5\n",
    "w1=(-y+w)/2*x\n",
    "w2=(-y-w)/2*x\n",
    "print('Positive and Negative roots are {},{}'.format(w1,w2))\n"
   ]
  },
  {
   "cell_type": "code",
   "execution_count": null,
   "metadata": {},
   "outputs": [],
   "source": [
    "5. Write a Python program to swap two variables without temp variable?"
   ]
  },
  {
   "cell_type": "code",
   "execution_count": 14,
   "metadata": {},
   "outputs": [
    {
     "name": "stdout",
     "output_type": "stream",
     "text": [
      "Enter integers to be swapped 4 5\n",
      "Swapped integers are 5,4\n"
     ]
    }
   ],
   "source": [
    "z=list(input('Enter integers to be swapped ').split())\n",
    "print('Swapped integers are {},{}'.format(z[1],z[0]))"
   ]
  },
  {
   "cell_type": "code",
   "execution_count": null,
   "metadata": {},
   "outputs": [],
   "source": []
  }
 ],
 "metadata": {
  "kernelspec": {
   "display_name": "Python 3",
   "language": "python",
   "name": "python3"
  }
 },
 "nbformat": 4,
 "nbformat_minor": 4
}
